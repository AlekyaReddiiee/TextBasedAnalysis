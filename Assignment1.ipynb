{
 "cells": [
  {
   "cell_type": "code",
   "execution_count": 1,
   "id": "00479d63-a184-4af5-8715-c23c8487cb74",
   "metadata": {},
   "outputs": [
    {
     "name": "stdout",
     "output_type": "stream",
     "text": [
      "Hello World\n"
     ]
    }
   ],
   "source": [
    "#Python Strings\n",
    "print (\"Hello World\")"
   ]
  },
  {
   "cell_type": "code",
   "execution_count": 2,
   "id": "c403d5d2-972d-4c52-b0b1-df76d8f3c101",
   "metadata": {},
   "outputs": [
    {
     "name": "stdout",
     "output_type": "stream",
     "text": [
      "hello\n",
      "llo\n"
     ]
    }
   ],
   "source": [
    "#Accessing indvidual letters\n",
    "a='hello'\n",
    "print(a)\n",
    "\n",
    "a=\"Hello, World!\"\n",
    "print(a[2:5])"
   ]
  },
  {
   "cell_type": "code",
   "execution_count": 3,
   "id": "274737e3-aa02-4524-85d8-c9b2df2521bf",
   "metadata": {},
   "outputs": [
    {
     "name": "stdout",
     "output_type": "stream",
     "text": [
      "13\n",
      "HELLO, WORLD!\n",
      "hello, world!\n",
      "Jello, World!\n"
     ]
    }
   ],
   "source": [
    "#String Functions\n",
    "a=\"Hello, World!\"\n",
    "\n",
    "#len(a) will return the length of the string \n",
    "print(len(a))\n",
    "\n",
    "#the upper() method is used to convert the string to uppercase\n",
    "print(a.upper())\n",
    "\n",
    "#The lower() method converts all characters in the string to lowercase\n",
    "print(a.lower())\n",
    "\n",
    "#the replace() method is used to replace\n",
    "print(a.replace(\"H\",\"J\"))\n"
   ]
  },
  {
   "cell_type": "code",
   "execution_count": 4,
   "id": "b0c18a33-103c-4675-bc84-0a6fc6eaabb0",
   "metadata": {},
   "outputs": [
    {
     "name": "stdout",
     "output_type": "stream",
     "text": [
      "hello  world\n"
     ]
    }
   ],
   "source": [
    "#String Concatenation\n",
    "\n",
    "a= \"hello\"\n",
    "b=\"world\"\n",
    "c= a+\"  \"+b\n",
    "print(c)"
   ]
  },
  {
   "cell_type": "code",
   "execution_count": 5,
   "id": "fceb31b9-a9b6-4ea7-ab23-d6783ef0ba28",
   "metadata": {},
   "outputs": [
    {
     "ename": "TypeError",
     "evalue": "'str' object does not support item assignment",
     "output_type": "error",
     "traceback": [
      "\u001b[1;31m---------------------------------------------------------------------------\u001b[0m",
      "\u001b[1;31mTypeError\u001b[0m                                 Traceback (most recent call last)",
      "Cell \u001b[1;32mIn[5], line 5\u001b[0m\n\u001b[0;32m      2\u001b[0m my_string \u001b[38;5;241m=\u001b[39m \u001b[38;5;124m\"\u001b[39m\u001b[38;5;124mAlekya Kudumula\u001b[39m\u001b[38;5;124m\"\u001b[39m\n\u001b[0;32m      4\u001b[0m \u001b[38;5;66;03m# Attempt to modify the string\u001b[39;00m\n\u001b[1;32m----> 5\u001b[0m \u001b[43mmy_string\u001b[49m\u001b[43m[\u001b[49m\u001b[38;5;241;43m0\u001b[39;49m\u001b[43m]\u001b[49m \u001b[38;5;241m=\u001b[39m \u001b[38;5;124m'\u001b[39m\u001b[38;5;124mReddy\u001b[39m\u001b[38;5;124m'\u001b[39m \n\u001b[0;32m      7\u001b[0m \u001b[38;5;66;03m#this will give an typeError\u001b[39;00m\n",
      "\u001b[1;31mTypeError\u001b[0m: 'str' object does not support item assignment"
     ]
    }
   ],
   "source": [
    "# String are Immutable\n",
    "my_string = \"Alekya Kudumula\"\n",
    " \n",
    "# Attempt to modify the string\n",
    "my_string[0] = 'Reddy' \n",
    "\n",
    "#this will give an typeError"
   ]
  },
  {
   "cell_type": "code",
   "execution_count": 9,
   "id": "0e2a4643-69eb-44cf-bb98-0bc4fc9feace",
   "metadata": {},
   "outputs": [
    {
     "name": "stdout",
     "output_type": "stream",
     "text": [
      "eky\n",
      "Aleky\n",
      "ekya Kudumula\n",
      "umu\n"
     ]
    }
   ],
   "source": [
    "#String Slicing\n",
    "#You can return a range of characters by using the slice syntax\n",
    "#Slicing format: string[start : end]\n",
    "\n",
    "my_string = \"Alekya Kudumula\"\n",
    "print(my_string[2:5])\n",
    "\n",
    "#Slice from the start\n",
    "print(my_string[:5])\n",
    "\n",
    "#Slice to the end\n",
    "print(my_string[2:])\n",
    "\n",
    "#Negative Indexing:Use negative indexes to start the slice from the end of the string\n",
    "print(my_string[-5:-2])\n"
   ]
  },
  {
   "cell_type": "code",
   "execution_count": 15,
   "id": "7caa055b-a74e-4e71-8f25-125a03c4e113",
   "metadata": {},
   "outputs": [
    {
     "name": "stdout",
     "output_type": "stream",
     "text": [
      "True\n",
      "True\n",
      "False\n",
      "True\n",
      "False\n",
      "False\n",
      "True\n",
      "False\n",
      "10\n",
      "Olivia is gorgeous.\n"
     ]
    }
   ],
   "source": [
    "#String Methods\n",
    "\n",
    "#isalnum():Returns True if all characters in the string are alphanumeric\n",
    "name=\"olivia\"\n",
    "x = name.isalnum()\n",
    "print(x)\n",
    "\n",
    "#isalpha():Returns True if all characters in the string are in the alphabet\n",
    "name=\"olivia\"\n",
    "x = name.isalpha()\n",
    "print(x)\n",
    "\n",
    "#isdigit():Returns True if all characters in the string are digits\n",
    "name=\"olivia\"\n",
    "x = name.isdigit()\n",
    "print(x)\n",
    "\n",
    "#islower():Returns True if all characters in the string are lower case\n",
    "name=\"olivia\"\n",
    "x = name.islower()\n",
    "print(x)\n",
    "\n",
    "#isupper():Returns True if all characters in the string are upper case\n",
    "name=\"olivia\"\n",
    "x = name.isupper()\n",
    "print(x)\n",
    "\n",
    "#isspace():Returns True if all characters in the string are whitespaces\n",
    "name=\"olivia\"\n",
    "x = name.isspace()\n",
    "print(x)\n",
    "\n",
    "#endswith():Returns true if the string ends with the specified value\n",
    "txt = \"Olivia is beautiful.\"\n",
    "x = txt.endswith(\"beautiful.\")\n",
    "print(x)\n",
    "\n",
    "#startswith():Returns true if the string starts with the specified value\n",
    "txt = \"Olivia is beautiful.\"\n",
    "x = txt.startswith(\"beautiful\")\n",
    "print(x)\n",
    "\n",
    "#find():Searches the string for a specified value and returns the position of where it was found\n",
    "txt = \"Olivia is beautiful.\"\n",
    "x = txt.find(\"beautiful\")\n",
    "print(x)\n",
    "\n",
    "#replace():Returns a string where a specified value is replaced with a specified value\n",
    "txt = \"Olivia is beautiful.\"\n",
    "x = txt.replace(\"beautiful\", \"gorgeous\")\n",
    "print(x)"
   ]
  },
  {
   "cell_type": "code",
   "execution_count": 18,
   "id": "a2447435-e76f-45e6-afca-567560415eea",
   "metadata": {},
   "outputs": [
    {
     "data": {
      "text/plain": [
       "['One', 'Two', 'Three', 'Four']"
      ]
     },
     "execution_count": 18,
     "metadata": {},
     "output_type": "execute_result"
    }
   ],
   "source": [
    "#Splitting a String\n",
    "#split method: returns a list containing the words in the string\n",
    "\n",
    "my_string = 'One Two Three Four'\n",
    "word_list = my_string.split()\n",
    "word_list"
   ]
  },
  {
   "cell_type": "code",
   "execution_count": 19,
   "id": "e5290a3b-002b-4104-b4f1-e366c4ef5609",
   "metadata": {},
   "outputs": [
    {
     "data": {
      "text/plain": [
       "['1/2/3/4']"
      ]
     },
     "execution_count": 19,
     "metadata": {},
     "output_type": "execute_result"
    }
   ],
   "source": [
    "my_string='1/2/3/4'\n",
    "number_list = my_string.split()\n",
    "number_list"
   ]
  },
  {
   "cell_type": "code",
   "execution_count": 20,
   "id": "88148aa1-71e7-44f9-9789-e150c3fa2aaf",
   "metadata": {},
   "outputs": [
    {
     "data": {
      "text/plain": [
       "['1', '2', '3', '4']"
      ]
     },
     "execution_count": 20,
     "metadata": {},
     "output_type": "execute_result"
    }
   ],
   "source": [
    "my_string='1/2/3/4'\n",
    "number_list = my_string.split('/')\n",
    "number_list"
   ]
  },
  {
   "cell_type": "code",
   "execution_count": 21,
   "id": "6e21832f-dccf-45ab-9b33-68f84fd21d2f",
   "metadata": {},
   "outputs": [
    {
     "data": {
      "text/plain": [
       "['banana', 'blueberry', 'chocolate']"
      ]
     },
     "execution_count": 21,
     "metadata": {},
     "output_type": "execute_result"
    }
   ],
   "source": [
    "#String Tokens\n",
    "str =' banana blueberry chocolate'\n",
    "tokens = str.split()\n",
    "tokens"
   ]
  },
  {
   "cell_type": "code",
   "execution_count": 22,
   "id": "d9f1129f-3bf9-4a84-91f6-8483d64e393b",
   "metadata": {},
   "outputs": [
    {
     "data": {
      "text/plain": [
       "['225', 'Taft', 'Avenue']"
      ]
     },
     "execution_count": 22,
     "metadata": {},
     "output_type": "execute_result"
    }
   ],
   "source": [
    "my_address= '225.Taft.Avenue'\n",
    "tokens=my_address.split('.')\n",
    "tokens"
   ]
  },
  {
   "cell_type": "code",
   "execution_count": null,
   "id": "737cbcef-b3bf-4adc-a190-49f57d3c3912",
   "metadata": {},
   "outputs": [],
   "source": []
  }
 ],
 "metadata": {
  "kernelspec": {
   "display_name": "Python 3 (ipykernel)",
   "language": "python",
   "name": "python3"
  },
  "language_info": {
   "codemirror_mode": {
    "name": "ipython",
    "version": 3
   },
   "file_extension": ".py",
   "mimetype": "text/x-python",
   "name": "python",
   "nbconvert_exporter": "python",
   "pygments_lexer": "ipython3",
   "version": "3.12.1"
  }
 },
 "nbformat": 4,
 "nbformat_minor": 5
}
