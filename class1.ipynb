{
 "cells": [
  {
   "cell_type": "code",
   "execution_count": 1,
   "id": "821ef234-61fb-4a2d-9e37-992074930ea2",
   "metadata": {},
   "outputs": [
    {
     "name": "stdout",
     "output_type": "stream",
     "text": [
      "Hello World\n"
     ]
    }
   ],
   "source": [
    "print (\"Hello World\")"
   ]
  },
  {
   "cell_type": "code",
   "execution_count": 8,
   "id": "c6660394-f57c-4463-86f1-dd0fe31bf146",
   "metadata": {},
   "outputs": [
    {
     "name": "stdout",
     "output_type": "stream",
     "text": [
      "hello\n"
     ]
    }
   ],
   "source": [
    "a='hello'\n",
    "print(a)"
   ]
  },
  {
   "cell_type": "code",
   "execution_count": 11,
   "id": "3424488c-ba95-4300-925c-93b5af702773",
   "metadata": {},
   "outputs": [
    {
     "name": "stdout",
     "output_type": "stream",
     "text": [
      "e\n"
     ]
    }
   ],
   "source": [
    "a=\"Hello, World!\"\n",
    "print(a[1])"
   ]
  },
  {
   "cell_type": "code",
   "execution_count": 13,
   "id": "2989d56b-a7d2-4811-b4f7-28798e68313b",
   "metadata": {},
   "outputs": [
    {
     "name": "stdout",
     "output_type": "stream",
     "text": [
      "llo\n"
     ]
    }
   ],
   "source": [
    "a=\"Hello, World!\"\n",
    "print(a[2:5])"
   ]
  },
  {
   "cell_type": "code",
   "execution_count": 18,
   "id": "41144a03-d2ed-414b-a185-021a133d45df",
   "metadata": {},
   "outputs": [
    {
     "name": "stdout",
     "output_type": "stream",
     "text": [
      "13\n"
     ]
    }
   ],
   "source": [
    "a=\"Hello, World!\"\n",
    "print(len(a))"
   ]
  },
  {
   "cell_type": "code",
   "execution_count": 19,
   "id": "e8024bbd-0a45-4864-a511-2bee2caaef20",
   "metadata": {},
   "outputs": [
    {
     "name": "stdout",
     "output_type": "stream",
     "text": [
      "HELLO, WORLD!\n"
     ]
    }
   ],
   "source": [
    "print(a.upper())"
   ]
  },
  {
   "cell_type": "code",
   "execution_count": 20,
   "id": "5605e7ff-889c-41a5-a7cd-c32ce41f358d",
   "metadata": {},
   "outputs": [
    {
     "name": "stdout",
     "output_type": "stream",
     "text": [
      "hello, world!\n"
     ]
    }
   ],
   "source": [
    "print(a.lower())"
   ]
  },
  {
   "cell_type": "code",
   "execution_count": 24,
   "id": "d1bec47b-c967-4118-9742-28734b97a0f2",
   "metadata": {},
   "outputs": [
    {
     "name": "stdout",
     "output_type": "stream",
     "text": [
      "Jello, World!\n"
     ]
    }
   ],
   "source": [
    "print(a.replace(\"H\",\"J\"))"
   ]
  },
  {
   "cell_type": "code",
   "execution_count": 31,
   "id": "a63989dc-7563-406d-9ce0-b86f85e285a0",
   "metadata": {},
   "outputs": [
    {
     "name": "stdout",
     "output_type": "stream",
     "text": [
      "hello  world\n"
     ]
    }
   ],
   "source": [
    "a= \"hello\"\n",
    "b=\"world\"\n",
    "c= a+\"  \"+b\n",
    "print(c)\n"
   ]
  },
  {
   "cell_type": "code",
   "execution_count": 32,
   "id": "a90084ca-75ff-475c-a760-0d0aecf4d8dd",
   "metadata": {},
   "outputs": [
    {
     "data": {
      "text/plain": [
       "['One', 'Two', 'Three', 'Four']"
      ]
     },
     "execution_count": 32,
     "metadata": {},
     "output_type": "execute_result"
    }
   ],
   "source": [
    "my_string = 'One Two Three Four'\n",
    "word_list = my_string.split()\n",
    "word_list"
   ]
  },
  {
   "cell_type": "code",
   "execution_count": 35,
   "id": "41101bbb-b59d-4348-beba-614fe7eda31b",
   "metadata": {},
   "outputs": [
    {
     "data": {
      "text/plain": [
       "['1/2/3/4']"
      ]
     },
     "execution_count": 35,
     "metadata": {},
     "output_type": "execute_result"
    }
   ],
   "source": [
    "my_string='1/2/3/4'\n",
    "number_list = my_string.split()\n",
    "number_list"
   ]
  },
  {
   "cell_type": "code",
   "execution_count": 36,
   "id": "441fbec0-4968-4184-8d2c-89b963699577",
   "metadata": {},
   "outputs": [
    {
     "data": {
      "text/plain": [
       "['1', '2', '3', '4']"
      ]
     },
     "execution_count": 36,
     "metadata": {},
     "output_type": "execute_result"
    }
   ],
   "source": [
    "my_string='1/2/3/4'\n",
    "number_list = my_string.split('/')\n",
    "number_list"
   ]
  },
  {
   "cell_type": "code",
   "execution_count": 37,
   "id": "004364d6-ebbe-4227-9a35-b5a6bddadd2f",
   "metadata": {},
   "outputs": [
    {
     "data": {
      "text/plain": [
       "['banana', 'blueberry', 'chocolate']"
      ]
     },
     "execution_count": 37,
     "metadata": {},
     "output_type": "execute_result"
    }
   ],
   "source": [
    "str =' banana blueberry chocolate'\n",
    "tokens = str.split()\n",
    "tokens"
   ]
  },
  {
   "cell_type": "code",
   "execution_count": 38,
   "id": "9443e32c-71f1-4e4e-8d26-c3c1b45b3e2e",
   "metadata": {},
   "outputs": [
    {
     "data": {
      "text/plain": [
       "['225', 'Taft', 'Avenue']"
      ]
     },
     "execution_count": 38,
     "metadata": {},
     "output_type": "execute_result"
    }
   ],
   "source": [
    "my_address= '225.Taft.Avenue'\n",
    "tokens=my_address.split('.')\n",
    "tokens"
   ]
  },
  {
   "cell_type": "code",
   "execution_count": 51,
   "id": "0d65a812-7b09-4ac0-b802-035859dfb755",
   "metadata": {},
   "outputs": [
    {
     "name": "stdout",
     "output_type": "stream",
     "text": [
      "Original string: Good, Morning\n",
      "New string: Good, Morning\n",
      "\n"
     ]
    }
   ],
   "source": [
    "txt = 'Good, Morning'\n",
    "print('Original string:', txt)\n",
    "print('New string:', txt.rstrip(','))\n",
    "print('')"
   ]
  },
  {
   "cell_type": "code",
   "execution_count": 50,
   "id": "6dc8d0c1-ca3d-45da-b58a-eec7fb83837c",
   "metadata": {},
   "outputs": [
    {
     "name": "stdout",
     "output_type": "stream",
     "text": [
      "Original string:  Good ,Morning \n",
      "New string:  Good ,Morning \n",
      "\n"
     ]
    }
   ],
   "source": [
    "txt = ' Good ,Morning '\n",
    "print('Original string:', txt)\n",
    "print('New string:', txt.lstrip(','))\n",
    "print('')"
   ]
  },
  {
   "cell_type": "code",
   "execution_count": 52,
   "id": "a044ce44-0f3f-4c5f-a0b3-c388da0d1935",
   "metadata": {},
   "outputs": [
    {
     "name": "stdout",
     "output_type": "stream",
     "text": [
      "Original string:  Good Morning \n",
      "New string: Good Morning\n",
      "\n"
     ]
    }
   ],
   "source": [
    "txt = ' Good Morning '\n",
    "print('Original string:', txt)\n",
    "print('New string:', txt.strip())\n",
    "print('')"
   ]
  },
  {
   "cell_type": "code",
   "execution_count": null,
   "id": "2f41e7d5-4f62-47c8-b825-34b9b2f51c46",
   "metadata": {},
   "outputs": [],
   "source": []
  }
 ],
 "metadata": {
  "kernelspec": {
   "display_name": "Python 3 (ipykernel)",
   "language": "python",
   "name": "python3"
  },
  "language_info": {
   "codemirror_mode": {
    "name": "ipython",
    "version": 3
   },
   "file_extension": ".py",
   "mimetype": "text/x-python",
   "name": "python",
   "nbconvert_exporter": "python",
   "pygments_lexer": "ipython3",
   "version": "3.12.1"
  }
 },
 "nbformat": 4,
 "nbformat_minor": 5
}
